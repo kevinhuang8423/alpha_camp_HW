{
  "cells": [
    {
      "cell_type": "markdown",
      "metadata": {
        "id": "view-in-github",
        "colab_type": "text"
      },
      "source": [
        "<a href=\"https://colab.research.google.com/github/kevinhuang8423/alpha_camp_HW/blob/main/Content_based_%E4%BD%9C%E6%A5%AD_W2.ipynb\" target=\"_parent\"><img src=\"https://colab.research.google.com/assets/colab-badge.svg\" alt=\"Open In Colab\"/></a>"
      ]
    },
    {
      "cell_type": "markdown",
      "metadata": {
        "id": "84de56a8"
      },
      "source": [
        "# Sample Code"
      ],
      "id": "84de56a8"
    },
    {
      "cell_type": "markdown",
      "metadata": {
        "id": "688675f5"
      },
      "source": [
        "## 基礎建設"
      ],
      "id": "688675f5"
    },
    {
      "cell_type": "code",
      "execution_count": null,
      "metadata": {
        "id": "b32226db",
        "scrolled": true
      },
      "outputs": [],
      "source": [
        "import pandas as pd\n",
        "import gzip, json\n",
        "\n",
        "def parse(path):\n",
        "    g = gzip.open(path, 'rb')\n",
        "    for l in g:\n",
        "        yield json.loads(l)\n",
        "\n",
        "def getDF(path):\n",
        "    i = 0\n",
        "    df = {}\n",
        "    for d in parse(path):\n",
        "        df[i] = d\n",
        "        i += 1\n",
        "    return pd.DataFrame.from_dict(df, orient='index')"
      ],
      "id": "b32226db"
    },
    {
      "cell_type": "markdown",
      "metadata": {
        "id": "84ff0f9d"
      },
      "source": [
        "## 載入資料"
      ],
      "id": "84ff0f9d"
    },
    {
      "cell_type": "code",
      "execution_count": null,
      "metadata": {
        "id": "9402e9c7"
      },
      "outputs": [],
      "source": [
        "# !wget http://deepyeti.ucsd.edu/jianmo/amazon/categoryFilesSmall/All_Beauty.csv\n",
        "# !wget http://deepyeti.ucsd.edu/jianmo/amazon/metaFiles2/meta_All_Beauty.json.gz"
      ],
      "id": "9402e9c7"
    },
    {
      "cell_type": "code",
      "execution_count": null,
      "metadata": {
        "id": "84b66cc7"
      },
      "outputs": [],
      "source": [
        "# metadata = getDF('/content/meta_All_Beauty.json.gz')\n",
        "# ratings = pd.read_csv('/content/All_Beauty.csv', names=['asin', 'reviewerID', 'overall', 'unixReviewTime'], header=None)"
      ],
      "id": "84b66cc7"
    },
    {
      "cell_type": "code",
      "execution_count": null,
      "metadata": {
        "id": "BtvOaQwbl7lJ"
      },
      "outputs": [],
      "source": [
        "metadata = getDF('./meta_All_Beauty.json.gz')\n",
        "ratings = pd.read_csv('./All_Beauty.csv', names=['asin', 'reviewerID', 'overall', 'unixReviewTime'], header=None)"
      ],
      "id": "BtvOaQwbl7lJ"
    },
    {
      "cell_type": "code",
      "execution_count": null,
      "metadata": {
        "colab": {
          "base_uri": "https://localhost:8080/",
          "height": 433
        },
        "id": "9fd77203",
        "outputId": "41fd521d-34b1-4ba3-c2db-51dfd3f6a7d3"
      },
      "outputs": [
        {
          "data": {
            "text/html": [
              "<div>\n",
              "<style scoped>\n",
              "    .dataframe tbody tr th:only-of-type {\n",
              "        vertical-align: middle;\n",
              "    }\n",
              "\n",
              "    .dataframe tbody tr th {\n",
              "        vertical-align: top;\n",
              "    }\n",
              "\n",
              "    .dataframe thead th {\n",
              "        text-align: right;\n",
              "    }\n",
              "</style>\n",
              "<table border=\"1\" class=\"dataframe\">\n",
              "  <thead>\n",
              "    <tr style=\"text-align: right;\">\n",
              "      <th></th>\n",
              "      <th>category</th>\n",
              "      <th>tech1</th>\n",
              "      <th>description</th>\n",
              "      <th>fit</th>\n",
              "      <th>title</th>\n",
              "      <th>also_buy</th>\n",
              "      <th>tech2</th>\n",
              "      <th>brand</th>\n",
              "      <th>feature</th>\n",
              "      <th>rank</th>\n",
              "      <th>also_view</th>\n",
              "      <th>details</th>\n",
              "      <th>main_cat</th>\n",
              "      <th>similar_item</th>\n",
              "      <th>date</th>\n",
              "      <th>price</th>\n",
              "      <th>asin</th>\n",
              "      <th>imageURL</th>\n",
              "      <th>imageURLHighRes</th>\n",
              "    </tr>\n",
              "  </thead>\n",
              "  <tbody>\n",
              "    <tr>\n",
              "      <th>0</th>\n",
              "      <td>[]</td>\n",
              "      <td></td>\n",
              "      <td>[Loud 'N Clear Personal Sound Amplifier allows...</td>\n",
              "      <td></td>\n",
              "      <td>Loud 'N Clear&amp;trade; Personal Sound Amplifier</td>\n",
              "      <td>[]</td>\n",
              "      <td></td>\n",
              "      <td>idea village</td>\n",
              "      <td>[]</td>\n",
              "      <td>2,938,573 in Beauty &amp; Personal Care (</td>\n",
              "      <td>[]</td>\n",
              "      <td>{'ASIN: ': '6546546450'}</td>\n",
              "      <td>All Beauty</td>\n",
              "      <td></td>\n",
              "      <td></td>\n",
              "      <td></td>\n",
              "      <td>6546546450</td>\n",
              "      <td>[]</td>\n",
              "      <td>[]</td>\n",
              "    </tr>\n",
              "    <tr>\n",
              "      <th>1</th>\n",
              "      <td>[]</td>\n",
              "      <td></td>\n",
              "      <td>[No7 Lift &amp; Luminate Triple Action Serum 50ml ...</td>\n",
              "      <td></td>\n",
              "      <td>No7 Lift &amp;amp; Luminate Triple Action Serum 50...</td>\n",
              "      <td>[B01E7LCSL6, B008X5RVME]</td>\n",
              "      <td></td>\n",
              "      <td></td>\n",
              "      <td>[]</td>\n",
              "      <td>872,854 in Beauty &amp; Personal Care (</td>\n",
              "      <td>[]</td>\n",
              "      <td>{'Shipping Weight:': '0.3 ounces (', 'ASIN: ':...</td>\n",
              "      <td>All Beauty</td>\n",
              "      <td>class=\"a-bordered a-horizontal-stripes  a-spa...</td>\n",
              "      <td></td>\n",
              "      <td>$44.99</td>\n",
              "      <td>7178680776</td>\n",
              "      <td>[]</td>\n",
              "      <td>[]</td>\n",
              "    </tr>\n",
              "    <tr>\n",
              "      <th>2</th>\n",
              "      <td>[]</td>\n",
              "      <td></td>\n",
              "      <td>[No7 Stay Perfect Foundation now stays perfect...</td>\n",
              "      <td></td>\n",
              "      <td>No7 Stay Perfect Foundation Cool Vanilla by No7</td>\n",
              "      <td>[]</td>\n",
              "      <td></td>\n",
              "      <td>No7</td>\n",
              "      <td>[]</td>\n",
              "      <td>956,696 in Beauty &amp; Personal Care (</td>\n",
              "      <td>[B01B8BR0O8, B01B8BR0NO, B014MHXXM8]</td>\n",
              "      <td>{'Shipping Weight:': '3.5 ounces (', 'ASIN: ':...</td>\n",
              "      <td>All Beauty</td>\n",
              "      <td></td>\n",
              "      <td></td>\n",
              "      <td>$28.76</td>\n",
              "      <td>7250468162</td>\n",
              "      <td>[]</td>\n",
              "      <td>[]</td>\n",
              "    </tr>\n",
              "  </tbody>\n",
              "</table>\n",
              "</div>"
            ],
            "text/plain": [
              "  category tech1                                        description fit  \\\n",
              "0       []        [Loud 'N Clear Personal Sound Amplifier allows...       \n",
              "1       []        [No7 Lift & Luminate Triple Action Serum 50ml ...       \n",
              "2       []        [No7 Stay Perfect Foundation now stays perfect...       \n",
              "\n",
              "                                               title  \\\n",
              "0      Loud 'N Clear&trade; Personal Sound Amplifier   \n",
              "1  No7 Lift &amp; Luminate Triple Action Serum 50...   \n",
              "2    No7 Stay Perfect Foundation Cool Vanilla by No7   \n",
              "\n",
              "                   also_buy tech2         brand feature  \\\n",
              "0                        []        idea village      []   \n",
              "1  [B01E7LCSL6, B008X5RVME]                          []   \n",
              "2                        []                 No7      []   \n",
              "\n",
              "                                    rank  \\\n",
              "0  2,938,573 in Beauty & Personal Care (   \n",
              "1    872,854 in Beauty & Personal Care (   \n",
              "2    956,696 in Beauty & Personal Care (   \n",
              "\n",
              "                              also_view  \\\n",
              "0                                    []   \n",
              "1                                    []   \n",
              "2  [B01B8BR0O8, B01B8BR0NO, B014MHXXM8]   \n",
              "\n",
              "                                             details    main_cat  \\\n",
              "0                           {'ASIN: ': '6546546450'}  All Beauty   \n",
              "1  {'Shipping Weight:': '0.3 ounces (', 'ASIN: ':...  All Beauty   \n",
              "2  {'Shipping Weight:': '3.5 ounces (', 'ASIN: ':...  All Beauty   \n",
              "\n",
              "                                        similar_item date   price        asin  \\\n",
              "0                                                                  6546546450   \n",
              "1   class=\"a-bordered a-horizontal-stripes  a-spa...       $44.99  7178680776   \n",
              "2                                                          $28.76  7250468162   \n",
              "\n",
              "  imageURL imageURLHighRes  \n",
              "0       []              []  \n",
              "1       []              []  \n",
              "2       []              []  "
            ]
          },
          "execution_count": 5,
          "metadata": {},
          "output_type": "execute_result"
        }
      ],
      "source": [
        "metadata.head(3)"
      ],
      "id": "9fd77203"
    },
    {
      "cell_type": "code",
      "execution_count": null,
      "metadata": {
        "colab": {
          "base_uri": "https://localhost:8080/",
          "height": 143
        },
        "id": "b402792c",
        "outputId": "068f3f4e-ca3e-4d28-ecd4-9d6edb1d2236"
      },
      "outputs": [
        {
          "data": {
            "text/html": [
              "<div>\n",
              "<style scoped>\n",
              "    .dataframe tbody tr th:only-of-type {\n",
              "        vertical-align: middle;\n",
              "    }\n",
              "\n",
              "    .dataframe tbody tr th {\n",
              "        vertical-align: top;\n",
              "    }\n",
              "\n",
              "    .dataframe thead th {\n",
              "        text-align: right;\n",
              "    }\n",
              "</style>\n",
              "<table border=\"1\" class=\"dataframe\">\n",
              "  <thead>\n",
              "    <tr style=\"text-align: right;\">\n",
              "      <th></th>\n",
              "      <th>asin</th>\n",
              "      <th>reviewerID</th>\n",
              "      <th>overall</th>\n",
              "      <th>unixReviewTime</th>\n",
              "    </tr>\n",
              "  </thead>\n",
              "  <tbody>\n",
              "    <tr>\n",
              "      <th>0</th>\n",
              "      <td>0143026860</td>\n",
              "      <td>A1V6B6TNIC10QE</td>\n",
              "      <td>1.0</td>\n",
              "      <td>1424304000</td>\n",
              "    </tr>\n",
              "    <tr>\n",
              "      <th>1</th>\n",
              "      <td>0143026860</td>\n",
              "      <td>A2F5GHSXFQ0W6J</td>\n",
              "      <td>4.0</td>\n",
              "      <td>1418860800</td>\n",
              "    </tr>\n",
              "    <tr>\n",
              "      <th>2</th>\n",
              "      <td>0143026860</td>\n",
              "      <td>A1572GUYS7DGSR</td>\n",
              "      <td>4.0</td>\n",
              "      <td>1407628800</td>\n",
              "    </tr>\n",
              "  </tbody>\n",
              "</table>\n",
              "</div>"
            ],
            "text/plain": [
              "         asin      reviewerID  overall  unixReviewTime\n",
              "0  0143026860  A1V6B6TNIC10QE      1.0      1424304000\n",
              "1  0143026860  A2F5GHSXFQ0W6J      4.0      1418860800\n",
              "2  0143026860  A1572GUYS7DGSR      4.0      1407628800"
            ]
          },
          "execution_count": 6,
          "metadata": {},
          "output_type": "execute_result"
        }
      ],
      "source": [
        "ratings.head(3)"
      ],
      "id": "b402792c"
    },
    {
      "cell_type": "markdown",
      "metadata": {
        "id": "y9tSHaHNu7_h"
      },
      "source": [
        "## 資料預覽"
      ],
      "id": "y9tSHaHNu7_h"
    },
    {
      "cell_type": "code",
      "execution_count": null,
      "metadata": {
        "id": "wK1_F2Lcl7lR"
      },
      "outputs": [],
      "source": [
        "##去除重複資料\n",
        "metadata = metadata.loc[metadata.astype(str).drop_duplicates().index]"
      ],
      "id": "wK1_F2Lcl7lR"
    },
    {
      "cell_type": "code",
      "execution_count": null,
      "metadata": {
        "colab": {
          "base_uri": "https://localhost:8080/"
        },
        "id": "AIh-vHiLvVBb",
        "outputId": "be907697-2757-461f-ee53-82d490586e70"
      },
      "outputs": [
        {
          "data": {
            "text/plain": [
              "(32488, 19)"
            ]
          },
          "execution_count": 8,
          "metadata": {},
          "output_type": "execute_result"
        }
      ],
      "source": [
        "metadata.shape"
      ],
      "id": "AIh-vHiLvVBb"
    },
    {
      "cell_type": "code",
      "execution_count": null,
      "metadata": {
        "colab": {
          "base_uri": "https://localhost:8080/"
        },
        "id": "b8dClBBlvpPV",
        "outputId": "d2dd1ea9-44c8-473f-cd20-a6d90baa1384"
      },
      "outputs": [
        {
          "data": {
            "text/plain": [
              "str"
            ]
          },
          "execution_count": 9,
          "metadata": {},
          "output_type": "execute_result"
        }
      ],
      "source": [
        "type(metadata['price'].iloc[2])"
      ],
      "id": "b8dClBBlvpPV"
    },
    {
      "cell_type": "code",
      "execution_count": null,
      "metadata": {
        "colab": {
          "base_uri": "https://localhost:8080/"
        },
        "id": "mjjFX0L598xE",
        "outputId": "6a38727b-f6ef-48de-c428-1065b9b3520d"
      },
      "outputs": [
        {
          "data": {
            "text/plain": [
              "array(['All Beauty'], dtype=object)"
            ]
          },
          "execution_count": 10,
          "metadata": {},
          "output_type": "execute_result"
        }
      ],
      "source": [
        "metadata['main_cat'].unique()"
      ],
      "id": "mjjFX0L598xE"
    },
    {
      "cell_type": "code",
      "execution_count": null,
      "metadata": {
        "colab": {
          "base_uri": "https://localhost:8080/",
          "height": 718
        },
        "id": "nThePmILxnbL",
        "outputId": "e4b83969-fa36-4599-a7c0-51287e1d45f0",
        "scrolled": true
      },
      "outputs": [
        {
          "data": {
            "text/plain": [
              "<AxesSubplot:>"
            ]
          },
          "execution_count": 11,
          "metadata": {},
          "output_type": "execute_result"
        },
        {
          "data": {
            "image/png": "[encoded data removed]",
            "text/plain": [
              "<Figure size 720x864 with 1 Axes>"
            ]
          },
          "metadata": {
            "needs_background": "light"
          },
          "output_type": "display_data"
        }
      ],
      "source": [
        "metadata['brand'].value_counts(ascending=True).iloc[-10:-1].to_frame().plot(kind='barh',figsize=(10,12))"
      ],
      "id": "nThePmILxnbL"
    },
    {
      "cell_type": "code",
      "execution_count": null,
      "metadata": {
        "colab": {
          "base_uri": "https://localhost:8080/",
          "height": 891
        },
        "id": "J61FLxRL5WZF",
        "outputId": "13075792-f83c-4b2c-e47f-b3ef469a8819",
        "scrolled": true
      },
      "outputs": [
        {
          "data": {
            "text/plain": [
              " Beauty  Personal Care       32015\n",
              " Grocery  Gourmet Food          37\n",
              " Health  Household              21\n",
              " Toys  Games                     3\n",
              " Sports  Outdoors                3\n",
              " Cloth                           2\n",
              " Baby                            2\n",
              " Tools  Home Improvement         1\n",
              " Automotive                      1\n",
              " Home  Kitchen                   1\n",
              "Name: Sub_type, dtype: int64"
            ]
          },
          "execution_count": 12,
          "metadata": {},
          "output_type": "execute_result"
        },
        {
          "data": {
            "image/png": "[encoded data removed]",
            "text/plain": [
              "<Figure size 720x864 with 1 Axes>"
            ]
          },
          "metadata": {
            "needs_background": "light"
          },
          "output_type": "display_data"
        }
      ],
      "source": [
        "metadata['Sub_type'] = metadata['rank'].str.split('in').str[1]\n",
        "metadata['Sub_type'] = metadata['Sub_type'].str.replace(r'(','', regex=True)\n",
        "metadata['Sub_type'] = metadata['Sub_type'].str.replace(r'&.*;','', regex=True)\n",
        "metadata['Sub_type'] = metadata['Sub_type'].str.replace(r'&','', regex=True)\n",
        "metadata['Sub_type'].value_counts(ascending=True).iloc[-10:-1].to_frame().plot(kind='barh',figsize=(10,12))\n",
        "metadata['Sub_type'].value_counts()"
      ],
      "id": "J61FLxRL5WZF"
    },
    {
      "cell_type": "markdown",
      "metadata": {
        "id": "695362e3"
      },
      "source": [
        "## 資料整理"
      ],
      "id": "695362e3"
    },
    {
      "cell_type": "code",
      "execution_count": null,
      "metadata": {
        "id": "b552fb23"
      },
      "outputs": [],
      "source": [
        "ratings['DATE'] = pd.to_datetime(ratings['unixReviewTime'], unit='s')"
      ],
      "id": "b552fb23"
    },
    {
      "cell_type": "code",
      "execution_count": null,
      "metadata": {
        "id": "IAeKsDlNEYLn"
      },
      "outputs": [],
      "source": [
        "# 合併 title/brand/Sub_type 同時提取特徵值\n",
        "def words_combine(x):\n",
        "#     words = f'{x[\"Sub_type\"]}, {\"\".join(x[\"title\"])}, {\"\".join(str(x[\"brand\"]))} '\n",
        "    words = f'{\"\".join(x[\"title\"])}, {\"\".join((x[\"description\"]))} '\n",
        "    words = words.replace('(','').replace(')','').replace('&','').replace('/','').replace(';','').replace(',','')\n",
        "    words = words.lower()\n",
        "\n",
        "    return words"
      ],
      "id": "IAeKsDlNEYLn"
    },
    {
      "cell_type": "code",
      "execution_count": null,
      "metadata": {
        "colab": {
          "base_uri": "https://localhost:8080/"
        },
        "id": "otZrvBkzI8cE",
        "outputId": "3e44e88e-e5de-4e1f-dc0d-a2677694f36f"
      },
      "outputs": [
        {
          "data": {
            "text/plain": [
              "0    loud 'n cleartrade personal sound amplifier lo...\n",
              "1    no7 lift amp luminate triple action serum 50ml...\n",
              "2    no7 stay perfect foundation cool vanilla by no...\n",
              "3    wella koleston perfect hair colour 4444 medium...\n",
              "4    lacto calamine skin balance oil control 120 ml...\n",
              "5    mary kay satin hands hand cream travel mini si...\n",
              "6    unique custom cast iron liner shader tattoo ma...\n",
              "7    imagen bendita por su santidad our lady of cha...\n",
              "8    mali princ novi prevod proslavljene knjige zad...\n",
              "9    moleskine payne's grey card wallet moleskine n...\n",
              "Name: All_feature, dtype: object"
            ]
          },
          "execution_count": 15,
          "metadata": {},
          "output_type": "execute_result"
        }
      ],
      "source": [
        "metadata['All_feature'] = metadata.apply(words_combine, axis =1)\n",
        "metadata['All_feature'].head(10)"
      ],
      "id": "otZrvBkzI8cE"
    },
    {
      "cell_type": "code",
      "execution_count": null,
      "metadata": {
        "id": "igQk88Hwl7lc",
        "outputId": "0d884d0b-f427-413b-fa40-2f1bbaa918c0"
      },
      "outputs": [
        {
          "data": {
            "text/plain": [
              "'no7 lift amp luminate triple action serum 50ml by boots no7 lift  luminate triple action serum 50ml by boots '"
            ]
          },
          "execution_count": 16,
          "metadata": {},
          "output_type": "execute_result"
        }
      ],
      "source": [
        "metadata['All_feature'].loc[1]"
      ],
      "id": "igQk88Hwl7lc"
    },
    {
      "cell_type": "markdown",
      "metadata": {
        "id": "054eeba4"
      },
      "source": [
        "## 資料切分"
      ],
      "id": "054eeba4"
    },
    {
      "cell_type": "code",
      "execution_count": null,
      "metadata": {
        "id": "284b14a8"
      },
      "outputs": [],
      "source": [
        "ratings_trainings = ratings[\n",
        "    (ratings['DATE'] < '2018-09-01')\n",
        "]\n",
        "ratings_testings = ratings[\n",
        "    (ratings['DATE'] >= '2018-09-01') & \n",
        "    (ratings['DATE'] <= '2018-09-30')\n",
        "]\n",
        "#近一個月的銷售熱度_By product sales\n",
        "ratings_trainings_L1M = ratings[\n",
        "    (ratings['DATE'] >= '2018-08-01')& \n",
        "    (ratings['DATE'] <= '2018-08-31')\n",
        "]\n",
        "ratings_testings_by_user = ratings_testings.groupby('reviewerID').agg(list).reset_index()[['reviewerID', 'asin']].to_dict('records') #‘records’ : list like [{column -> value}, … , {column -> value}]\n",
        "ratings_testings_by_user = { rating['reviewerID']: rating['asin'] for rating in ratings_testings_by_user }\n",
        "users = list(ratings_testings_by_user.keys())"
      ],
      "id": "284b14a8"
    },
    {
      "cell_type": "code",
      "execution_count": null,
      "metadata": {
        "id": "boFExgZDl7lf",
        "outputId": "7f58f14e-7121-4b70-a775-84579b3435fd"
      },
      "outputs": [
        {
          "data": {
            "text/plain": [
              "(32488, 21)"
            ]
          },
          "execution_count": 18,
          "metadata": {},
          "output_type": "execute_result"
        }
      ],
      "source": [
        "metadata.shape"
      ],
      "id": "boFExgZDl7lf"
    },
    {
      "cell_type": "markdown",
      "metadata": {
        "id": "a6c76061"
      },
      "source": [
        "## 產生推薦"
      ],
      "id": "a6c76061"
    },
    {
      "cell_type": "code",
      "execution_count": null,
      "metadata": {
        "id": "T4I5El_UzeNk"
      },
      "outputs": [],
      "source": [
        "from sklearn.feature_extraction.text import TfidfVectorizer\n",
        "\n",
        "# 計算商品用標題所表示的 tfidf 矩陣\n",
        "metadata = metadata.drop_duplicates('All_feature')\n",
        "\n",
        "metadata.reset_index(inplace=True, drop=True)\n",
        "\n"
      ],
      "id": "T4I5El_UzeNk"
    },
    {
      "cell_type": "code",
      "execution_count": null,
      "metadata": {
        "id": "QKnD3HG2l7ln"
      },
      "outputs": [],
      "source": [
        "tf = TfidfVectorizer(analyzer='word', max_df= 100)\n",
        "tfidf_matrix = tf.fit_transform(metadata['All_feature'])"
      ],
      "id": "QKnD3HG2l7ln"
    },
    {
      "cell_type": "code",
      "execution_count": null,
      "metadata": {
        "id": "IvWK_q5zzfWH"
      },
      "outputs": [],
      "source": [
        "# 計算商品間的相似程度\n",
        "from sklearn.metrics.pairwise import cosine_similarity\n",
        "similarity_matrix = cosine_similarity(tfidf_matrix)"
      ],
      "id": "IvWK_q5zzfWH"
    },
    {
      "cell_type": "code",
      "execution_count": null,
      "metadata": {
        "id": "uwldjUhxl7lp"
      },
      "outputs": [],
      "source": [
        "mapping = pd.Series(metadata.index,index = metadata['All_feature'])\n"
      ],
      "id": "uwldjUhxl7lp"
    },
    {
      "cell_type": "code",
      "execution_count": null,
      "metadata": {
        "id": "61e7487b"
      },
      "outputs": [],
      "source": [
        "# 每個商品回傳 k 個最相近的商品\n",
        "def recommend_item(all_feature, k=2):\n",
        "    try:\n",
        "        item_index = mapping[all_feature]\n",
        "#         print(item_index)\n",
        "        similarity_score = list(enumerate(similarity_matrix[item_index]))\n",
        "        similarity_score = sorted(similarity_score, key=lambda x: x[1], reverse=True)\n",
        "        similarity_score = similarity_score[:k]\n",
        "        item_indices = [i[0] for i in similarity_score]\n",
        "#         print(metadata['asin'].iloc[item_indices].tolist())\n",
        "        return (metadata['asin'].iloc[item_indices].tolist())\n",
        "    except:\n",
        "        return []\n",
        "\n",
        "# 針對先前無購買資料的用戶，直接推薦近一個月熱銷前10名的商品\n",
        "def rule_base_recom(ratings_trainings_L1M):\n",
        "    training_data_groupby = ratings_trainings_L1M.groupby(['asin'], as_index=False).agg(sales_count=(\"asin\", 'count'))\n",
        "    training_data_groupby_sort = training_data_groupby.sort_values(by='sales_count',ascending=False)\n",
        "    top10_recom = training_data_groupby_sort['asin'].to_list()[:10]\n",
        "    return top10_recom\n",
        "\n",
        "\n",
        "\n",
        "# 利用使用者購買過的商品產生推薦\n",
        "def recommend_items(items, k):   \n",
        "    res = []\n",
        "    for d in items:\n",
        "        res.extend(recommend_item(d, k))\n",
        "    if res == []:\n",
        "        top10_recom = rule_base_recom(ratings_trainings_L1M)\n",
        "        res.extend(top10_recom)\n",
        "        return res\n",
        "    else:\n",
        "        return res"
      ],
      "id": "61e7487b"
    },
    {
      "cell_type": "code",
      "execution_count": null,
      "metadata": {
        "id": "9280a043",
        "scrolled": true
      },
      "outputs": [],
      "source": [
        "def recommender(ratings_trainings, users=[], k=10):\n",
        "    \n",
        "    recommendations = {}\n",
        "    '''\n",
        "    content-based\n",
        "    '''\n",
        "    \n",
        "    recommendations = {user: recommend_items(metadata[metadata['asin'].isin(ratings_trainings[ratings_trainings['reviewerID'] == user]\n",
        "              ['asin'].tolist())]['All_feature'].tolist(), 10) for user in users}\n",
        "    return recommendations\n",
        "\n",
        "ratings_by_user = recommender(ratings_trainings, users)\n"
      ],
      "id": "9280a043"
    },
    {
      "cell_type": "markdown",
      "metadata": {
        "id": "04a4ca9e"
      },
      "source": [
        "## 結果評估"
      ],
      "id": "04a4ca9e"
    },
    {
      "cell_type": "code",
      "execution_count": null,
      "metadata": {
        "id": "p7KW3dowl7lq",
        "outputId": "8483ec39-967b-4166-82c5-d89627fe61f6"
      },
      "outputs": [
        {
          "data": {
            "text/plain": [
              "0.15254237288135594"
            ]
          },
          "execution_count": 43,
          "metadata": {},
          "output_type": "execute_result"
        }
      ],
      "source": [
        "def evaluate(ratings_by_user, ratings_testings_by_user):\n",
        "\n",
        "    total = 0\n",
        "    for d in ratings_by_user:\n",
        "        if d in ratings_testings_by_user:\n",
        "            total += len(set(ratings_testings_by_user[d]) & set(ratings_by_user[d]))\n",
        "    score = total / len(ratings_testings)\n",
        "    return score\n",
        "\n",
        "evaluate(ratings_by_user, ratings_testings_by_user)"
      ],
      "id": "p7KW3dowl7lq"
    }
  ],
  "metadata": {
    "accelerator": "GPU",
    "colab": {
      "collapsed_sections": [],
      "name": "Content_based_作業_W2.ipynb",
      "provenance": [],
      "include_colab_link": true
    },
    "kernelspec": {
      "display_name": "Python 3",
      "language": "python",
      "name": "python3"
    },
    "language_info": {
      "codemirror_mode": {
        "name": "ipython",
        "version": 3
      },
      "file_extension": ".py",
      "mimetype": "text/x-python",
      "name": "python",
      "nbconvert_exporter": "python",
      "pygments_lexer": "ipython3",
      "version": "3.8.5"
    }
  },
  "nbformat": 4,
  "nbformat_minor": 5
}